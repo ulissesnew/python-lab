{
 "cells": [
  {
   "cell_type": "code",
   "execution_count": 1,
   "id": "a7dcbbef-9869-46e8-bf2d-47cdb6e7ec2f",
   "metadata": {},
   "outputs": [],
   "source": [
    "import os \n",
    "import requests \n",
    "from dotenv import load_dotenv\n",
    "from bs4 import BeautifulSoup \n",
    "from IPython.display import Markdown, display\n",
    "from openai import OpenAI\n"
   ]
  },
  {
   "cell_type": "code",
   "execution_count": 2,
   "id": "f7d9655d-4caa-4f5b-a959-0fc399afa243",
   "metadata": {},
   "outputs": [],
   "source": [
    "headers = {\n",
    "    \"User-Agent\": \"Mozilla/5.0 (X11; Ubuntu; Linux x86_64; rv:142.0) Gecko/20100101 Firefox/142.0\"\n",
    "}\n",
    "\n",
    "class Website:\n",
    "    def __init__(self, url):\n",
    "        self.url = url \n",
    "        response = requests.get(url, headers=headers)\n",
    "        soup = BeautifulSoup(response.content, 'html.parser')\n",
    "        self.title = soup.title.string if soup.title else \"Not Title found\"\n",
    "\n",
    "        for irrelevant in soup.body([\"script\", \"style\", \"img\", \"input\"]):\n",
    "            irrelevant.decompose() \n",
    "        self.text = soup.body.get_text(separator=\"\\n\", strip=True)\n",
    "        "
   ]
  },
  {
   "cell_type": "code",
   "execution_count": 3,
   "id": "c95a15f1-a236-4c95-8943-3ad4c3cabd96",
   "metadata": {},
   "outputs": [],
   "source": [
    "system_prompt = \"\"\"\n",
    " You are a assistant that analyzes the contents of a website \\ \n",
    " and provide a short summary, ignoring text that might be navigation related.\n",
    " Respond in Markdown.\n",
    "\n",
    "\"\"\"\n",
    "\n",
    "def user_prompt_for(website):\n",
    "    user_prompt = f\"You are looking at a website titled {website.title}\"\n",
    "    user_prompt += \"\"\"\n",
    "        \\n The content of this website is a follows; \\\n",
    "        please provide a short summary of this website in markdown. \\\n",
    "        If it includes news or announcements, then summarize these too. \\n\\n\n",
    "        \n",
    "    \"\"\"\n",
    "\n",
    "    user_prompt += website.text \n",
    "    return user_prompt"
   ]
  },
  {
   "cell_type": "code",
   "execution_count": 4,
   "id": "89be03e7-db75-4115-9325-69bdf15abe51",
   "metadata": {},
   "outputs": [],
   "source": [
    "# Constants\n",
    "\n",
    "OLLAMA_API = \"http://localhost:11434/api/chat\"\n",
    "HEADERS = {\"Content-Type\": \"application/json\"}\n",
    "MODEL = \"llama3.2\"\n",
    "\n",
    "# Create a messages list using the same format that we used for OpenAI\n",
    "\n",
    "def messages_for(website):\n",
    "    return  [\n",
    "        {\"role\": \"system\", \"content\": system_prompt},\n",
    "        {\"role\": \"user\", \"content\": user_prompt_for(website)}\n",
    "    ]\n",
    "\n",
    "\n",
    "\n"
   ]
  },
  {
   "cell_type": "code",
   "execution_count": 5,
   "id": "89669faf-8f07-429e-8f42-10921aaa13e9",
   "metadata": {},
   "outputs": [],
   "source": [
    "\n",
    "def sumarize(url):\n",
    "    website = Website(url) \n",
    "    payload = {\n",
    "        \"model\": MODEL,\n",
    "        \"messages\": messages_for(website),\n",
    "        \"stream\": False\n",
    "    }\n",
    "    response = requests.post(OLLAMA_API, json=payload, headers=HEADERS)\n",
    "    return response.json()[\"message\"][\"content\"]\n",
    "    \n",
    "    "
   ]
  },
  {
   "cell_type": "code",
   "execution_count": 6,
   "id": "15667fe3-7f5b-45f1-8947-f0aeed806e4c",
   "metadata": {},
   "outputs": [
    {
     "name": "stdout",
     "output_type": "stream",
     "text": [
      "\u001b[?2026h\u001b[?25l\u001b[1Gpulling manifest ⠋ \u001b[K\u001b[?25h\u001b[?2026l\u001b[?2026h\u001b[?25l\u001b[1Gpulling manifest ⠙ \u001b[K\u001b[?25h\u001b[?2026l\u001b[?2026h\u001b[?25l\u001b[1Gpulling manifest ⠹ \u001b[K\u001b[?25h\u001b[?2026l\u001b[?2026h\u001b[?25l\u001b[1Gpulling manifest ⠸ \u001b[K\u001b[?25h\u001b[?2026l\u001b[?2026h\u001b[?25l\u001b[1Gpulling manifest ⠼ \u001b[K\u001b[?25h\u001b[?2026l\u001b[?2026h\u001b[?25l\u001b[1Gpulling manifest ⠴ \u001b[K\u001b[?25h\u001b[?2026l\u001b[?2026h\u001b[?25l\u001b[1Gpulling manifest ⠦ \u001b[K\u001b[?25h\u001b[?2026l\u001b[?2026h\u001b[?25l\u001b[1Gpulling manifest ⠧ \u001b[K\u001b[?25h\u001b[?2026l\u001b[?2026h\u001b[?25l\u001b[1Gpulling manifest ⠇ \u001b[K\u001b[?25h\u001b[?2026l\u001b[?2026h\u001b[?25l\u001b[1Gpulling manifest ⠏ \u001b[K\u001b[?25h\u001b[?2026l\u001b[?2026h\u001b[?25l\u001b[1Gpulling manifest ⠋ \u001b[K\u001b[?25h\u001b[?2026l\u001b[?2026h\u001b[?25l\u001b[1Gpulling manifest ⠙ \u001b[K\u001b[?25h\u001b[?2026l\u001b[?2026h\u001b[?25l\u001b[1Gpulling manifest \u001b[K\n",
      "pulling dde5aa3fc5ff: 100% ▕██████████████████▏ 2.0 GB                         \u001b[K\n",
      "pulling 966de95ca8a6: 100% ▕██████████████████▏ 1.4 KB                         \u001b[K\n",
      "pulling fcc5a6bec9da: 100% ▕██████████████████▏ 7.7 KB                         \u001b[K\n",
      "pulling a70ff7e570d9: 100% ▕██████████████████▏ 6.0 KB                         \u001b[K\n",
      "pulling 56bb8bd477a5: 100% ▕██████████████████▏   96 B                         \u001b[K\n",
      "pulling 34bb5ab01051: 100% ▕██████████████████▏  561 B                         \u001b[K\n",
      "verifying sha256 digest \u001b[K\n",
      "writing manifest \u001b[K\n",
      "success \u001b[K\u001b[?25h\u001b[?2026l\n"
     ]
    }
   ],
   "source": [
    "\n",
    "# Let's just make sure the model is loaded\n",
    "\n",
    "!ollama pull llama3.2"
   ]
  },
  {
   "cell_type": "code",
   "execution_count": 7,
   "id": "75c4ef43-10fb-451c-8b50-a362268c93fc",
   "metadata": {},
   "outputs": [],
   "source": [
    "def display_summary(url):\n",
    "    summary = sumarize(url)\n",
    "    display(Markdown(summary))\n",
    "    "
   ]
  },
  {
   "cell_type": "code",
   "execution_count": 8,
   "id": "3378f6d3-2691-44bf-81ad-83e543cb4e79",
   "metadata": {},
   "outputs": [
    {
     "data": {
      "text/markdown": [
       "Aqui estão alguns dos principais lançamentos e notícias do mundo do entretenimento, tecnologia e esportes publicadas nos últimos dias:\n",
       "\n",
       "**Jogos**\n",
       "\n",
       "*   **The Rogue Prince of Persia**: Um jogo de aventura que é desafiador e divertido.\n",
       "*   **Heroes of Loot 2**: Um jogo de ação em linha com um jogo de RPG.\n",
       "*   **Fantasy Empires**: Um jogo estratégico que combina elementos de táticas em tempo real e RPGs.\n",
       "*   **The Rogue Prince of Persia**: O jogo chega para PC, PS e Xbox.\n",
       "\n",
       "**Tecnologia**\n",
       "\n",
       "*   **Motorola Moto G05**: Um smartphone com bateria grande e câmera de 50 MP em oferta por menos de R$ 600.\n",
       "*   **Samsung Galaxy S26 Pro**: Uma linha de telefones inteligentes que inclui o modelo com uma capacidade de armazenamento de até 512 GB.\n",
       "*   **Realme C75**: Um celular 5G que aposta em resistência e longa bateria.\n",
       "\n",
       "**Esportes**\n",
       "\n",
       "*   **Fase da Lua**: Hoje é a data do aumento do satélite da lua, uma das primeiras missões mais complexas de manutenção.\n",
       "*   **Clair Obscur: Expedition 33**: Jogo com uma franquia que terá continuação após o sucesso inicial.\n",
       "\n",
       "**Economia e Negócios**\n",
       "\n",
       "*   A liquidação da Amazon, TV TCL, Smart TV TCL, TCL revoluciona a experiência audiovisual com a nova TV C8K, entre outros estão na agenda."
      ],
      "text/plain": [
       "<IPython.core.display.Markdown object>"
      ]
     },
     "metadata": {},
     "output_type": "display_data"
    }
   ],
   "source": [
    "display_summary(\"https://news.google.com/topics/CAAqLAgKIiZDQkFTRmdvSkwyMHZNR1ptZHpWbUVnVndkQzFDVWhvQ1FsSW9BQVAB?hl=pt-BR&gl=BR&ceid=BR%3Apt-419\")"
   ]
  },
  {
   "cell_type": "code",
   "execution_count": null,
   "id": "fd040792-2eb0-42c6-ab41-e38948564fcd",
   "metadata": {},
   "outputs": [],
   "source": []
  },
  {
   "cell_type": "code",
   "execution_count": null,
   "id": "c7757009-7c0a-412b-ad87-07d9caa95b0b",
   "metadata": {},
   "outputs": [],
   "source": []
  }
 ],
 "metadata": {
  "kernelspec": {
   "display_name": "Python (myenv)",
   "language": "python",
   "name": "myenv"
  },
  "language_info": {
   "codemirror_mode": {
    "name": "ipython",
    "version": 3
   },
   "file_extension": ".py",
   "mimetype": "text/x-python",
   "name": "python",
   "nbconvert_exporter": "python",
   "pygments_lexer": "ipython3",
   "version": "3.9.23"
  }
 },
 "nbformat": 4,
 "nbformat_minor": 5
}
