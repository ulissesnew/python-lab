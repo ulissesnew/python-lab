{
 "cells": [
  {
   "cell_type": "code",
   "execution_count": 27,
   "id": "cd043f1c-d8c4-4efa-9b9d-02a62c831051",
   "metadata": {},
   "outputs": [],
   "source": [
    "import gradio as gr \n",
    "import requests \n",
    "from openai import OpenAI \n",
    "from bs4 import BeautifulSoup \n",
    "from dotenv import load_dotenv\n",
    "import os\n",
    "\n",
    "IS_LOCAL=True\n",
    "MODEL=\"\"\n",
    "\n",
    "if(IS_LOCAL):\n",
    "    openai = OpenAI(base_url=\"http://localhost:11434/v1\", api_key=\"ollama\")\n",
    "    MODEL=\"llama3.2\"\n",
    "else:\n",
    "    MODEL=\"gpt-4o-mini\"\n",
    "    load_dotenv(override=True)\n",
    "    openai_key = os.getenv(\"OPENAI_API_KEY\")\n",
    "    openai = OpenAI()\n",
    "    if openai_key:\n",
    "        print(\"OPENAI_API_KEY loaded with success! \")\n",
    "    else: \n",
    "        print(\"OPENAI_API_KEY not set!\")\n",
    "\n"
   ]
  },
  {
   "cell_type": "code",
   "execution_count": 28,
   "id": "c120e5d5-7302-4d22-abe4-8ef87f553734",
   "metadata": {},
   "outputs": [],
   "source": [
    "class Website:\n",
    "    url: str \n",
    "    site: str \n",
    "    text: str\n",
    "    \n",
    "    def __init__(self, url):\n",
    "        self.url = url \n",
    "        response = requests.get(url)\n",
    "        self.body = response.content\n",
    "        soup = BeautifulSoup(self.body, \"html.parser\")\n",
    "        self.title = soup.title.string if soup.title else \"Not title found\"\n",
    "        for irrelevant in soup.body([\"script\", \"style\", \"img\", \"input\"]):\n",
    "            irrelevant.decompose() \n",
    "        self.text = soup.body.get_text(separator=\"\\n\", strip=True)\n",
    "\n",
    "    def get_contents(self):\n",
    "        return f\"Webpage Title:\\n{self.title}\\nWebpage Contents:\\n{self.text}\\n\\n\"\n",
    "\n",
    "\n",
    "    \n",
    "            \n",
    "    "
   ]
  },
  {
   "cell_type": "code",
   "execution_count": 29,
   "id": "69776401-c8ad-4f0b-9ab7-cf33cc6547ea",
   "metadata": {},
   "outputs": [],
   "source": [
    "system_message = \"\"\"You are an assistant that analyzes the contents of a company website landing page \\\n",
    " and create a short brochure about the company for prospective customers, investors and recruiters. Respond in markdown.\n",
    "\n",
    "\"\"\""
   ]
  },
  {
   "cell_type": "code",
   "execution_count": 30,
   "id": "506f3464-0287-4c9a-9e81-94b2b142a4d1",
   "metadata": {},
   "outputs": [],
   "source": [
    "def stream_gpt(prompt):\n",
    "    messages = [\n",
    "        {\"role\": \"system\", \"content\": system_message },\n",
    "        {\"role\": \"user\", \"content\": prompt }\n",
    "       \n",
    "    ]\n",
    "    stream = openai.chat.completions.create(\n",
    "          model=MODEL,\n",
    "          messages=messages,\n",
    "          stream=True\n",
    "        )\n",
    "    result = \"\"\n",
    "    for chunk in stream:\n",
    "        result += chunk.choices[0].delta.content or \"\"\n",
    "        yield result\n",
    "    "
   ]
  },
  {
   "cell_type": "code",
   "execution_count": 31,
   "id": "6fedd8c9-8827-4a27-bb91-c3ed3945825f",
   "metadata": {},
   "outputs": [],
   "source": [
    "def stream_brochure(company_name, url, model):\n",
    "    yield \"\"\n",
    "    prompt = f\"\"\"Please generate a company brochure for {company_name}. here is their landing page:\\n\n",
    "    \"\"\"\n",
    "    prompt += Website(url).get_contents()\n",
    "    if model == \"GPT\":\n",
    "        result = stream_gpt(prompt)\n",
    "    elif model == \"CLAUDE\":\n",
    "        result = \"\"\n",
    "        print(\"Claude was not implemented\")\n",
    "    else:\n",
    "        raise ValueError(\"Unknown model\")\n",
    "    yield from result\n",
    "    "
   ]
  },
  {
   "cell_type": "code",
   "execution_count": 32,
   "id": "4bae1593-0a7c-434e-bfac-e08d908ade1f",
   "metadata": {},
   "outputs": [
    {
     "name": "stdout",
     "output_type": "stream",
     "text": [
      "Running on local URL:  http://127.0.0.1:7872\n",
      "\n",
      "To create a public link, set `share=True` in `launch()`.\n"
     ]
    },
    {
     "data": {
      "text/html": [
       "<div><iframe src=\"http://127.0.0.1:7872/\" width=\"100%\" height=\"500\" allow=\"autoplay; camera; microphone; clipboard-read; clipboard-write;\" frameborder=\"0\" allowfullscreen></iframe></div>"
      ],
      "text/plain": [
       "<IPython.core.display.HTML object>"
      ]
     },
     "metadata": {},
     "output_type": "display_data"
    },
    {
     "data": {
      "text/plain": []
     },
     "execution_count": 32,
     "metadata": {},
     "output_type": "execute_result"
    }
   ],
   "source": [
    "view = gr.Interface(\n",
    "    fn=stream_brochure,\n",
    "    inputs=[\n",
    "        gr.Textbox(label=\"Company name\"),\n",
    "        gr.Textbox(label=\"Landing Page URL including http:// or https://\"),\n",
    "        gr.Dropdown([\"GPT\", \"Claude\"], label=\"Select Model\")\n",
    "    ], \n",
    "    outputs=[gr.Markdown(label=\"Brochure:\")]\n",
    ")\n",
    "\n",
    "view.launch()"
   ]
  },
  {
   "cell_type": "code",
   "execution_count": null,
   "id": "0e55897a-ba93-4726-8215-f2a7a7f57c6f",
   "metadata": {},
   "outputs": [],
   "source": []
  }
 ],
 "metadata": {
  "kernelspec": {
   "display_name": "Python (myenv)",
   "language": "python",
   "name": "myenv"
  },
  "language_info": {
   "codemirror_mode": {
    "name": "ipython",
    "version": 3
   },
   "file_extension": ".py",
   "mimetype": "text/x-python",
   "name": "python",
   "nbconvert_exporter": "python",
   "pygments_lexer": "ipython3",
   "version": "3.9.23"
  }
 },
 "nbformat": 4,
 "nbformat_minor": 5
}
