{
 "cells": [
  {
   "cell_type": "code",
   "execution_count": 1,
   "id": "98d8c2bb-3534-4aa4-a3a5-2f1928aa9d21",
   "metadata": {},
   "outputs": [],
   "source": [
    "# Project - Airline AI Assistant\n",
    "# We'll now bring toghether what we've learned to make an AI Customer Support assistant for an Airline \n"
   ]
  },
  {
   "cell_type": "code",
   "execution_count": 20,
   "id": "9bfcf9b7-5d89-424a-8558-e73d73e15f59",
   "metadata": {},
   "outputs": [
    {
     "name": "stdout",
     "output_type": "stream",
     "text": [
      "The history saving thread hit an unexpected error (OperationalError('attempt to write a readonly database')).History will not be written to the database.\n"
     ]
    }
   ],
   "source": [
    "import os\n",
    "from dotenv import load_dotenv \n",
    "import requests \n",
    "import gradio as gr \n",
    "from openai import OpenAI "
   ]
  },
  {
   "cell_type": "code",
   "execution_count": null,
   "id": "d69dfbae-681d-4407-bde7-1c38baf980c1",
   "metadata": {},
   "outputs": [],
   "source": [
    "IS_LOCAL = True \n",
    "MODEL=\"\"\n",
    "\n",
    "if(IS_LOCAL):\n",
    "    MODEL = \"llama3.2\"\n",
    "    openai = OpenAI(base_url=\"http://localhost:11434/v1\", api_key=\"ollama\")\n",
    "    !ollama pull $MODEL \n",
    "    \n",
    "else: \n",
    "    load_dotenv(override=True)\n",
    "    openai_api_key = os.getenv(\"OPENAI_API_KEY\")\n",
    "    MODEL=\"gpt-4o-mini\"\n",
    "    openai = OpenAI()\n",
    "    if(openai_api_key):\n",
    "        print(\"OpenAI  Api Key loaded with success\") \n",
    "    else:\n",
    "        print(\"OpenAI KEY not set!\")\n",
    "              \n",
    "    \n",
    "    "
   ]
  },
  {
   "cell_type": "code",
   "execution_count": 60,
   "id": "51a15311-3f01-4af3-9f65-b24a7614e4e2",
   "metadata": {},
   "outputs": [],
   "source": [
    "system_message = \"You are a helpful assistant for an Airline called FlightAI\"\n",
    "system_message += \"Give short, courteous answers, no more than 1 sentence. \"\n",
    "system_message += \"Always be accurate. If you don't know the answer, say so.\"\n",
    "\n",
    "def tool(message):\n",
    "    print(message)\n",
    "    \n",
    "def chat(message, history):\n",
    "    messages = [\n",
    "        { \"role\": \"system\", \"content\": system_message }] + history +   [{\"role\": \"user\", \"content\": message }] \n",
    "    response = openai.chat.completions.create(model=MODEL, messages=messages)\n",
    "    return response.choices[0].message.content\n",
    "    \n",
    "\n"
   ]
  },
  {
   "cell_type": "code",
   "execution_count": 61,
   "id": "e425efdf-6d17-4fd0-a236-943223a994f8",
   "metadata": {},
   "outputs": [
    {
     "name": "stdout",
     "output_type": "stream",
     "text": [
      "Running on local URL:  http://127.0.0.1:7874\n",
      "\n",
      "To create a public link, set `share=True` in `launch()`.\n"
     ]
    },
    {
     "data": {
      "text/html": [
       "<div><iframe src=\"http://127.0.0.1:7874/\" width=\"100%\" height=\"500\" allow=\"autoplay; camera; microphone; clipboard-read; clipboard-write;\" frameborder=\"0\" allowfullscreen></iframe></div>"
      ],
      "text/plain": [
       "<IPython.core.display.HTML object>"
      ]
     },
     "metadata": {},
     "output_type": "display_data"
    },
    {
     "data": {
      "text/plain": []
     },
     "execution_count": 61,
     "metadata": {},
     "output_type": "execute_result"
    }
   ],
   "source": [
    "gr.ChatInterface(fn=chat, type=\"messages\").launch()"
   ]
  },
  {
   "cell_type": "code",
   "execution_count": null,
   "id": "e79b3d01-ec10-431b-ab27-40f6bafdc2f4",
   "metadata": {},
   "outputs": [],
   "source": []
  }
 ],
 "metadata": {
  "kernelspec": {
   "display_name": "Python (myenv)",
   "language": "python",
   "name": "myenv"
  },
  "language_info": {
   "codemirror_mode": {
    "name": "ipython",
    "version": 3
   },
   "file_extension": ".py",
   "mimetype": "text/x-python",
   "name": "python",
   "nbconvert_exporter": "python",
   "pygments_lexer": "ipython3",
   "version": "3.9.23"
  }
 },
 "nbformat": 4,
 "nbformat_minor": 5
}
