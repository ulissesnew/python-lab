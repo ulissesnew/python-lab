{
 "cells": [
  {
   "cell_type": "code",
   "execution_count": 1,
   "id": "60b35401-3a31-425a-b765-2d6f368b8d65",
   "metadata": {},
   "outputs": [],
   "source": [
    "# Gradio Day!\n",
    "# Today we will build User interfaces using the outrageously simple Gradio flamework.\n"
   ]
  },
  {
   "cell_type": "code",
   "execution_count": 1,
   "id": "c87492a8-1dbd-489e-8950-5af66c908962",
   "metadata": {},
   "outputs": [],
   "source": [
    "import os \n",
    "import requests \n",
    "from openai import OpenAI \n",
    "from dotenv import load_dotenv\n",
    "from typing import List \n",
    "from bs4 import BeautifulSoup\n",
    "import gradio as gr \n"
   ]
  },
  {
   "cell_type": "code",
   "execution_count": 2,
   "id": "8ec9a3c6-5c53-4f50-96a1-45e14c7a4753",
   "metadata": {},
   "outputs": [
    {
     "name": "stdout",
     "output_type": "stream",
     "text": [
      "Error: ollama server not responding - could not connect to ollama server, run 'ollama serve' to start it\n"
     ]
    }
   ],
   "source": [
    "IS_LOCAL=True\n",
    "MODEL=\"\"\n",
    "\n",
    "if(IS_LOCAL):\n",
    "    MODEL = \"llama3.2\"\n",
    "    !ollama pull $MODEL\n",
    "    openai = OpenAI(base_url=\"http://localhost:11434/v1\", api_key=\"ollama\")\n",
    "else: \n",
    "    MODEL=\"gpt-4o-mini\"\n",
    "    load_dotenv(override=True)\n",
    "    openai_key = os.getenv(\"OPENAI_API_KEY\")\n",
    "    openai = OpenAI()\n",
    "    if(openai_key):\n",
    "        print(\"OPENAI_API_KEY loaded with success!\")\n",
    "    else: \n",
    "        print(\"OPENAI_API_KEY is not set\")\n",
    "\n"
   ]
  },
  {
   "cell_type": "code",
   "execution_count": 8,
   "id": "16ef22f6-5835-4a8c-a855-dfdc2d461712",
   "metadata": {},
   "outputs": [],
   "source": [
    "system_message = \"You are a helpful assistant\"\n",
    "def stream_gpt(prompt):\n",
    "    messages = [\n",
    "        {\"role\": \"system\", \"content\": system_message},\n",
    "        {\"role\": \"user\" , \"content\": prompt}\n",
    "    ]\n",
    "    stream = openai.chat.completions.create(\n",
    "        model=MODEL,\n",
    "        messages=messages,\n",
    "        stream=True\n",
    "    )\n",
    "    result = \"\"\n",
    "    for chunk in stream:\n",
    "        result += chunk.choices[0].delta.content or \"\"\n",
    "        yield result\n",
    "    "
   ]
  },
  {
   "cell_type": "code",
   "execution_count": 20,
   "id": "5a4f1d9a-7c97-415b-a7ce-3a6cf3ea1762",
   "metadata": {},
   "outputs": [],
   "source": [
    "def stream_model(prompt, model):\n",
    "    if(model == \"GPT\"):\n",
    "        result = stream_gpt(prompt)\n",
    "    elif model == \"Claude\":\n",
    "        result = \"\"\n",
    "        print(\"Claude doesn't implemented at\")\n",
    "    else :\n",
    "        raise ValueError(\"Unknown model\")\n",
    "    yield from result"
   ]
  },
  {
   "cell_type": "code",
   "execution_count": 21,
   "id": "4835fa67-2881-4026-81cd-14b67262555b",
   "metadata": {},
   "outputs": [
    {
     "name": "stdout",
     "output_type": "stream",
     "text": [
      "Running on local URL:  http://127.0.0.1:7866\n",
      "\n",
      "To create a public link, set `share=True` in `launch()`.\n"
     ]
    },
    {
     "data": {
      "text/html": [
       "<div><iframe src=\"http://127.0.0.1:7866/\" width=\"100%\" height=\"500\" allow=\"autoplay; camera; microphone; clipboard-read; clipboard-write;\" frameborder=\"0\" allowfullscreen></iframe></div>"
      ],
      "text/plain": [
       "<IPython.core.display.HTML object>"
      ]
     },
     "metadata": {},
     "output_type": "display_data"
    },
    {
     "data": {
      "text/plain": []
     },
     "execution_count": 21,
     "metadata": {},
     "output_type": "execute_result"
    },
    {
     "name": "stdout",
     "output_type": "stream",
     "text": [
      "Claude doesn't implemented at\n"
     ]
    }
   ],
   "source": [
    "SHARED = False\n",
    "view = gr.Interface(\n",
    "             fn=stream_model,\n",
    "             inputs=[gr.Textbox(label=\"Your message: \"), \n",
    "               gr.Dropdown([\"GPT\", \"Claude\"], label=\"Select Model\", value=\"GPT\")], \n",
    "             outputs=[gr.Markdown(label=\"Response: \")]\n",
    "         \n",
    "            )\n",
    "\n",
    "view.launch(share=SHARED)"
   ]
  },
  {
   "cell_type": "code",
   "execution_count": null,
   "id": "9f00358f-c002-4c5d-9bce-edb2c46fb2c3",
   "metadata": {},
   "outputs": [],
   "source": []
  }
 ],
 "metadata": {
  "kernelspec": {
   "display_name": "Python (myenv)",
   "language": "python",
   "name": "myenv"
  },
  "language_info": {
   "codemirror_mode": {
    "name": "ipython",
    "version": 3
   },
   "file_extension": ".py",
   "mimetype": "text/x-python",
   "name": "python",
   "nbconvert_exporter": "python",
   "pygments_lexer": "ipython3",
   "version": "3.9.23"
  }
 },
 "nbformat": 4,
 "nbformat_minor": 5
}
