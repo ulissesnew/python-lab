{
 "cells": [
  {
   "cell_type": "code",
   "execution_count": null,
   "id": "2b1bd96e-faf9-48a1-944a-f6aea24af9ac",
   "metadata": {},
   "outputs": [],
   "source": [
    "# BUSINESS CHALLENGE:\n",
    "# Create a product that builds a Brochure for a company to be used for prospective clients, \n",
    "#  investors and potential recruits."
   ]
  },
  {
   "cell_type": "code",
   "execution_count": 2,
   "id": "85acf746-3c3c-4f00-a33d-9f50f70a0639",
   "metadata": {},
   "outputs": [],
   "source": [
    "from openai import OpenAI\n",
    "import os \n",
    "import requests \n",
    "import json \n",
    "from typing import List \n",
    "from dotenv import load_dotenv\n",
    "from bs4 import BeautifulSoup \n",
    "from IPython.display import Markdown, display, update_display \n",
    "\n"
   ]
  },
  {
   "cell_type": "code",
   "execution_count": 33,
   "id": "75ec5ef0-6741-4e9e-a4b5-82a74b92ace5",
   "metadata": {},
   "outputs": [
    {
     "name": "stdout",
     "output_type": "stream",
     "text": [
      "\u001b[?2026h\u001b[?25l\u001b[1Gpulling manifest ⠙ \u001b[K\u001b[?25h\u001b[?2026l\u001b[?2026h\u001b[?25l\u001b[1Gpulling manifest ⠙ \u001b[K\u001b[?25h\u001b[?2026l\u001b[?2026h\u001b[?25l\u001b[1Gpulling manifest ⠹ \u001b[K\u001b[?25h\u001b[?2026l\u001b[?2026h\u001b[?25l\u001b[1Gpulling manifest ⠸ \u001b[K\u001b[?25h\u001b[?2026l\u001b[?2026h\u001b[?25l\u001b[1Gpulling manifest ⠼ \u001b[K\u001b[?25h\u001b[?2026l\u001b[?2026h\u001b[?25l\u001b[1Gpulling manifest ⠴ \u001b[K\u001b[?25h\u001b[?2026l\u001b[?2026h\u001b[?25l\u001b[1Gpulling manifest ⠦ \u001b[K\u001b[?25h\u001b[?2026l\u001b[?2026h\u001b[?25l\u001b[1Gpulling manifest ⠧ \u001b[K\u001b[?25h\u001b[?2026l\u001b[?2026h\u001b[?25l\u001b[1Gpulling manifest ⠏ \u001b[K\u001b[?25h\u001b[?2026l\u001b[?2026h\u001b[?25l\u001b[1Gpulling manifest \u001b[K\n",
      "pulling dde5aa3fc5ff: 100% ▕██████████████████▏ 2.0 GB                         \u001b[K\n",
      "pulling 966de95ca8a6: 100% ▕██████████████████▏ 1.4 KB                         \u001b[K\n",
      "pulling fcc5a6bec9da: 100% ▕██████████████████▏ 7.7 KB                         \u001b[K\n",
      "pulling a70ff7e570d9: 100% ▕██████████████████▏ 6.0 KB                         \u001b[K\n",
      "pulling 56bb8bd477a5: 100% ▕██████████████████▏   96 B                         \u001b[K\n",
      "pulling 34bb5ab01051: 100% ▕██████████████████▏  561 B                         \u001b[K\n",
      "verifying sha256 digest \u001b[K\n",
      "writing manifest \u001b[K\n",
      "success \u001b[K\u001b[?25h\u001b[?2026l\n"
     ]
    }
   ],
   "source": [
    "IS_LOCAL=True\n",
    "apikey = \"\"\n",
    "MODEL = \"\"\n",
    "\n",
    "\n",
    "if(IS_LOCAL):\n",
    "    !ollama pull llama3.2\n",
    "    MODEL = \"llama3.2\"\n",
    "    openai = OpenAI(base_url=\"http://localhost:11434/v1\", api_key=\"ollama\") \n",
    "else:\n",
    "    load_dotenv(override=True)\n",
    "    MODEL=\"gpt-4o-mini\"\n",
    "    openai = OpenAI()\n",
    "    apikey = os.getenv('OPENAI_API_KEY')\n",
    "    if(apikey):\n",
    "       print(\"Api key looks good so far!\")\n",
    "    else:\n",
    "      print(\"Not found OPENAI_API_KEY!\")\n"
   ]
  },
  {
   "cell_type": "code",
   "execution_count": 34,
   "id": "271d868b-7905-42f8-9fbf-7973f2ce0e24",
   "metadata": {},
   "outputs": [],
   "source": [
    "\n",
    "headers = {\n",
    "    \"User-Agent\": \"Mozilla/5.0 (Windows NT 10.0; Win64; x64) AppleWebKit/537.36 (KHTML, like Gecko) Chrome/117.0.0.0 Safari/537.36\"\n",
    "}\n",
    "\n",
    "class Website:\n",
    "    \"\"\"\n",
    "     A utility class to represent a Website that we have scraped, now with links\n",
    "    \"\"\"\n",
    "    def __init__(self, url):\n",
    "        self.url = url \n",
    "        response = requests.get(url, headers=headers)\n",
    "        self.body = response.content\n",
    "        soup = BeautifulSoup(self.body, \"html.parser\")      \n",
    "        self.title = soup.title.string  if soup.title else \"No title found\"\n",
    "        if soup.body:\n",
    "            for irrelevant in soup.body([\"script\", \"style\", \"img\", \"input\"]):\n",
    "                irrelevant.decompose()\n",
    "            self.text = soup.body.get_text(separator=\"\\n\", strip=True)\n",
    "        else: \n",
    "            self.text = \"\"\n",
    "        links = [link.get(\"href\") for link in soup.find_all('a')]      \n",
    "        self.links = [link for link in links if link]\n",
    "\n",
    "    def get_contents(self):\n",
    "        return f\"Webpage Title: \\n{self.title}\\nWebpage Contents:\\n{self.text}\\n\\n\"\n",
    "    \n",
    "\n",
    "\n"
   ]
  },
  {
   "cell_type": "code",
   "execution_count": 35,
   "id": "401309b9-85a0-44f9-93f9-f21d919fef21",
   "metadata": {},
   "outputs": [],
   "source": [
    "link_system_prompt = \"\"\"You are provided with a list of links found on a webpage.\n",
    "You are able to decide which of the links would be most relevant to include in\n",
    "a brochure about the company, such as links to an About page, or a Company page,  \n",
    "or Careers/Jobs pages. \\n \n",
    "\"\"\"\n",
    "link_system_prompt += \"You should respond in JSON as in this example:\"\n",
    "link_system_prompt += \"\"\"\n",
    "    you should respond in JSON as in this example:\n",
    "\"\"\"\n",
    "link_system_prompt += \"\"\"\n",
    "{\n",
    "   \"links\": [ \n",
    "       { \"type\": \"about page\", \"url\": \"https://full.url/goes/here/about\"}, \n",
    "       { \"type\": \"careers page\", \"url\": \"https://another.full.url/careers\"}\n",
    "   ]\n",
    "}\n",
    "\n",
    "\"\"\"\n"
   ]
  },
  {
   "cell_type": "code",
   "execution_count": 36,
   "id": "dbf91cec-3708-47fb-b981-5af68e37c322",
   "metadata": {},
   "outputs": [],
   "source": [
    "def get_links_user_prompt(website):\n",
    "    user_prompt = f\"Here is the list of links on the website of {website.url} - \"\n",
    "    user_prompt += \"\"\" please decide wich of these are relevant web links for a brochure about the company, respond with the full https URL in JSON format.\n",
    "    Do not include Terms of Service, Privacy, email links\n",
    ": \\n    \"\"\"\n",
    "    user_prompt += \"Links (some might be relative links): \\n\"\n",
    "    user_prompt += \"\\n\".join(website.links)\n",
    "    return user_prompt\n",
    "\n"
   ]
  },
  {
   "cell_type": "code",
   "execution_count": 37,
   "id": "dccbfd2b-1bb3-492a-a842-f638cb28f17a",
   "metadata": {},
   "outputs": [],
   "source": [
    "def get_links(url):\n",
    "    website = Website(url)\n",
    "    response = openai.chat.completions.create(\n",
    "        model=MODEL,\n",
    "        messages=[\n",
    "        {\"role\": \"system\", \"content\": link_system_prompt},\n",
    "        {\"role\": \"user\", \"content\": get_links_user_prompt(website)}\n",
    "        ],\n",
    "         response_format={\"type\": \"json_object\"}\n",
    "      \n",
    "    )\n",
    "    result = response.choices[0].message.content\n",
    "    return json.loads(result)\n",
    "  "
   ]
  },
  {
   "cell_type": "code",
   "execution_count": 38,
   "id": "425de6ae-5cb2-4d1b-8c1d-219a1953ad38",
   "metadata": {},
   "outputs": [],
   "source": [
    "def get_all_details(url):\n",
    "    result = \"Landing page:\\n\"\n",
    "    result += Website(url).get_contents()\n",
    "    links = get_links(url)\n",
    " \n",
    "    for link in links[\"links\"]:\n",
    "        result += f\"\\n\\n{link['type']}\\n\"\n",
    "        if link['url']:\n",
    "            result += Website(link[\"url\"]).get_contents()\n",
    "    return result"
   ]
  },
  {
   "cell_type": "code",
   "execution_count": 39,
   "id": "2f2e04ca-92f7-4054-8b84-afe0721aaeb1",
   "metadata": {},
   "outputs": [],
   "source": [
    "system_prompt = \"\"\"\n",
    "You are an assistant that analyzes the contents of several relevant pages from a company website \n",
    "and creates a short brochure about the company for prospective customers, investors and\n",
    "recruits.  Respond in Markdown.\n",
    "Include details of company culture, customers and careers/jobs if you have the information.\n",
    "\n",
    "\"\"\""
   ]
  },
  {
   "cell_type": "code",
   "execution_count": 40,
   "id": "7a4f295f-6eae-4cca-bac1-702a2a5e37da",
   "metadata": {},
   "outputs": [],
   "source": [
    "def get_brochure_user_prompt(company_name, url):\n",
    "        user_prompt = f\"ypu are looking at a company called: {company_name} \\n\"\n",
    "        user_prompt += f\"Here are the contents of its landing page and other relevant pages; use this information to build a short brochure of the company in markdown. \\n\"\n",
    "        user_prompt +=  get_all_details(url)\n",
    "        user_prompt = user_prompt[:5_000]\n",
    "        return user_prompt"
   ]
  },
  {
   "cell_type": "code",
   "execution_count": 41,
   "id": "e778d80a-1fee-4525-a67b-34d1c437b250",
   "metadata": {},
   "outputs": [
    {
     "ename": "TypeError",
     "evalue": "string indices must be integers",
     "output_type": "error",
     "traceback": [
      "\u001b[0;31m---------------------------------------------------------------------------\u001b[0m",
      "\u001b[0;31mTypeError\u001b[0m                                 Traceback (most recent call last)",
      "Cell \u001b[0;32mIn[41], line 1\u001b[0m\n\u001b[0;32m----> 1\u001b[0m \u001b[43mget_brochure_user_prompt\u001b[49m\u001b[43m(\u001b[49m\u001b[38;5;124;43m\"\u001b[39;49m\u001b[38;5;124;43mIFOOD\u001b[39;49m\u001b[38;5;124;43m\"\u001b[39;49m\u001b[43m,\u001b[49m\u001b[43m  \u001b[49m\u001b[38;5;124;43m\"\u001b[39;49m\u001b[38;5;124;43mhttps://www.ifood.com.br/\u001b[39;49m\u001b[38;5;124;43m\"\u001b[39;49m\u001b[43m)\u001b[49m\n",
      "Cell \u001b[0;32mIn[40], line 4\u001b[0m, in \u001b[0;36mget_brochure_user_prompt\u001b[0;34m(company_name, url)\u001b[0m\n\u001b[1;32m      2\u001b[0m user_prompt \u001b[38;5;241m=\u001b[39m \u001b[38;5;124mf\u001b[39m\u001b[38;5;124m\"\u001b[39m\u001b[38;5;124mypu are looking at a company called: \u001b[39m\u001b[38;5;132;01m{\u001b[39;00mcompany_name\u001b[38;5;132;01m}\u001b[39;00m\u001b[38;5;124m \u001b[39m\u001b[38;5;130;01m\\n\u001b[39;00m\u001b[38;5;124m\"\u001b[39m\n\u001b[1;32m      3\u001b[0m user_prompt \u001b[38;5;241m+\u001b[39m\u001b[38;5;241m=\u001b[39m \u001b[38;5;124mf\u001b[39m\u001b[38;5;124m\"\u001b[39m\u001b[38;5;124mHere are the contents of its landing page and other relevant pages; use this information to build a short brochure of the company in markdown. \u001b[39m\u001b[38;5;130;01m\\n\u001b[39;00m\u001b[38;5;124m\"\u001b[39m\n\u001b[0;32m----> 4\u001b[0m user_prompt \u001b[38;5;241m+\u001b[39m\u001b[38;5;241m=\u001b[39m  \u001b[43mget_all_details\u001b[49m\u001b[43m(\u001b[49m\u001b[43murl\u001b[49m\u001b[43m)\u001b[49m\n\u001b[1;32m      5\u001b[0m user_prompt \u001b[38;5;241m=\u001b[39m user_prompt[:\u001b[38;5;241m5_000\u001b[39m]\n\u001b[1;32m      6\u001b[0m \u001b[38;5;28;01mreturn\u001b[39;00m user_prompt\n",
      "Cell \u001b[0;32mIn[38], line 7\u001b[0m, in \u001b[0;36mget_all_details\u001b[0;34m(url)\u001b[0m\n\u001b[1;32m      4\u001b[0m links \u001b[38;5;241m=\u001b[39m get_links(url)\n\u001b[1;32m      6\u001b[0m \u001b[38;5;28;01mfor\u001b[39;00m link \u001b[38;5;129;01min\u001b[39;00m links[\u001b[38;5;124m\"\u001b[39m\u001b[38;5;124mlinks\u001b[39m\u001b[38;5;124m\"\u001b[39m]:\n\u001b[0;32m----> 7\u001b[0m     result \u001b[38;5;241m+\u001b[39m\u001b[38;5;241m=\u001b[39m \u001b[38;5;124mf\u001b[39m\u001b[38;5;124m\"\u001b[39m\u001b[38;5;130;01m\\n\u001b[39;00m\u001b[38;5;130;01m\\n\u001b[39;00m\u001b[38;5;132;01m{\u001b[39;00mlink[\u001b[38;5;124m'\u001b[39m\u001b[38;5;124mtype\u001b[39m\u001b[38;5;124m'\u001b[39m]\u001b[38;5;132;01m}\u001b[39;00m\u001b[38;5;130;01m\\n\u001b[39;00m\u001b[38;5;124m\"\u001b[39m\n\u001b[1;32m      8\u001b[0m     \u001b[38;5;28;01mif\u001b[39;00m link[\u001b[38;5;124m'\u001b[39m\u001b[38;5;124murl\u001b[39m\u001b[38;5;124m'\u001b[39m]:\n\u001b[1;32m      9\u001b[0m         result \u001b[38;5;241m+\u001b[39m\u001b[38;5;241m=\u001b[39m Website(link[\u001b[38;5;124m\"\u001b[39m\u001b[38;5;124murl\u001b[39m\u001b[38;5;124m\"\u001b[39m])\u001b[38;5;241m.\u001b[39mget_contents()\n",
      "\u001b[0;31mTypeError\u001b[0m: string indices must be integers"
     ]
    }
   ],
   "source": [
    "get_brochure_user_prompt(\"IFOOD\",  \"https://www.ifood.com.br/\")"
   ]
  },
  {
   "cell_type": "code",
   "execution_count": null,
   "id": "7d11d372-d3fb-4cac-aa5e-44d69a0177ed",
   "metadata": {},
   "outputs": [],
   "source": [
    "def create_brochure(company_name, url):\n",
    "        response = openai.chat.completions.create(\n",
    "            model=MODEL,\n",
    "            messages=[\n",
    "                {\"role\": \"system\", \"content\": system_prompt},\n",
    "                {\"role\": \"user\", \"content\": get_brochure_user_prompt(company_name, url)}\n",
    "            ]\n",
    "        )\n",
    "        result = response.choices[0].message.content\n",
    "        display(Markdown(result))\n",
    "    "
   ]
  },
  {
   "cell_type": "code",
   "execution_count": null,
   "id": "751e8744-5a4f-49a4-ae0d-98b7e0fa8387",
   "metadata": {},
   "outputs": [],
   "source": [
    "create_brochure(\"IFOOD\", \"https://www.ifood.com.br\")"
   ]
  },
  {
   "cell_type": "code",
   "execution_count": null,
   "id": "349277d5-9811-4220-94ea-d62f479f2968",
   "metadata": {},
   "outputs": [],
   "source": []
  }
 ],
 "metadata": {
  "kernelspec": {
   "display_name": "Python (myenv)",
   "language": "python",
   "name": "myenv"
  },
  "language_info": {
   "codemirror_mode": {
    "name": "ipython",
    "version": 3
   },
   "file_extension": ".py",
   "mimetype": "text/x-python",
   "name": "python",
   "nbconvert_exporter": "python",
   "pygments_lexer": "ipython3",
   "version": "3.9.23"
  }
 },
 "nbformat": 4,
 "nbformat_minor": 5
}
