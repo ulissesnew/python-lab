{
 "cells": [
  {
   "cell_type": "code",
   "execution_count": 1,
   "id": "ca5b96fc-b04f-468b-97a7-34e77f2672c7",
   "metadata": {},
   "outputs": [],
   "source": [
    "# End of week 1 exercise\n",
    "# To demonstrate your familiarity with OpenAI API, and also Ollama, build a tool that takes a technical question,\n",
    "# and responds with an explanation. This is a tool that you will be able to use yourself during the course!"
   ]
  },
  {
   "cell_type": "code",
   "execution_count": 2,
   "id": "041d1096-b04b-4533-8ec5-5998f2e55275",
   "metadata": {},
   "outputs": [],
   "source": [
    "# Gemma3 1B parameter model\n",
    "# gemma3:1b-it-qat  \n",
    "# llama3.2"
   ]
  },
  {
   "cell_type": "code",
   "execution_count": 3,
   "id": "ac6c089e-cd1a-46a7-ac3c-bab4256d1030",
   "metadata": {},
   "outputs": [],
   "source": [
    "import os\n",
    "import requests \n",
    "import json\n",
    "from typing import List\n",
    "from dotenv import load_dotenv\n",
    "from bs4 import BeautifulSoup\n",
    "from openai import OpenAI \n",
    "from IPython.display import Markdown, display, update_display"
   ]
  },
  {
   "cell_type": "code",
   "execution_count": 4,
   "id": "0bc2f287-9986-4fed-984f-f6c3dcf5c7a7",
   "metadata": {},
   "outputs": [
    {
     "name": "stdout",
     "output_type": "stream",
     "text": [
      "\u001b[?2026h\u001b[?25l\u001b[1Gpulling manifest ⠙ \u001b[K\u001b[?25h\u001b[?2026l\u001b[?2026h\u001b[?25l\u001b[1Gpulling manifest ⠙ \u001b[K\u001b[?25h\u001b[?2026l\u001b[?2026h\u001b[?25l\u001b[1Gpulling manifest ⠸ \u001b[K\u001b[?25h\u001b[?2026l\u001b[?2026h\u001b[?25l\u001b[1Gpulling manifest ⠸ \u001b[K\u001b[?25h\u001b[?2026l\u001b[?2026h\u001b[?25l\u001b[1Gpulling manifest ⠼ \u001b[K\u001b[?25h\u001b[?2026l\u001b[?2026h\u001b[?25l\u001b[1Gpulling manifest ⠴ \u001b[K\u001b[?25h\u001b[?2026l\u001b[?2026h\u001b[?25l\u001b[1Gpulling manifest ⠦ \u001b[K\u001b[?25h\u001b[?2026l\u001b[?2026h\u001b[?25l\u001b[1Gpulling manifest ⠧ \u001b[K\u001b[?25h\u001b[?2026l\u001b[?2026h\u001b[?25l\u001b[1Gpulling manifest \u001b[K\n",
      "pulling 57c9b4a897df: 100% ▕██████████████████▏ 1.0 GB                         \u001b[K\n",
      "pulling 5be6630b666f: 100% ▕██████████████████▏  359 B                         \u001b[K\n",
      "pulling 3116c5225075: 100% ▕██████████████████▏   77 B                         \u001b[K\n",
      "pulling 59d7262b304a: 100% ▕██████████████████▏  416 B                         \u001b[K\n",
      "verifying sha256 digest \u001b[K\n",
      "writing manifest \u001b[K\n",
      "success \u001b[K\u001b[?25h\u001b[?2026l\n"
     ]
    }
   ],
   "source": [
    "IS_LOCAL=True\n",
    "apikey = \"\"\n",
    "MODEL = \"\"\n",
    "\n",
    "if(IS_LOCAL):\n",
    "    # MODEL = \"llama3.2\"\n",
    "    MODEL=\"gemma3:1b-it-qat\"\n",
    "    !ollama pull $MODEL\n",
    "    openai = OpenAI(base_url=\"http://localhost:11434/v1\", api_key=\"ollama\") \n",
    "else:\n",
    "    load_dotenv(override=True)\n",
    "    MODEL=\"gpt-4o-mini\"\n",
    "    openai = OpenAI()\n",
    "    apikey = os.getenv('OPENAI_API_KEY')\n",
    "    if(apikey):\n",
    "       print(\"Api key looks good so far!\")\n",
    "    else:\n",
    "      print(\"Not found OPENAI_API_KEY!\")"
   ]
  },
  {
   "cell_type": "code",
   "execution_count": 5,
   "id": "b34175b2-1da3-43a0-97e9-7c8af85d664d",
   "metadata": {},
   "outputs": [],
   "source": [
    "# here is the question; type over this to ask something new\n",
    "\n",
    "question = \"\"\"\n",
    "Please explain what this code does and why:\n",
    "\n",
    "  yield from {book.get(\"author\") for book in books if book.get(\"author\")}\n",
    "\"\"\""
   ]
  },
  {
   "cell_type": "code",
   "execution_count": 6,
   "id": "821f386f-eee8-41ff-b7ca-637a94ff26e1",
   "metadata": {},
   "outputs": [
    {
     "data": {
      "text/markdown": [
       "Okay, let’s break down this code snippet. As a senior software engineer, I can certainly explain it and walk you through the reasoning behind it.\n",
       "\n",
       "**What the code does:**\n",
       "\n",
       "This code is a powerful and concise way to extract the author of each book from a list of books in Python. Let’s dissect it piece by piece:\n",
       "\n",
       "```python\n",
       "yield from {book.get(\"author\") for book in books if book.get(\"author\")}\n",
       "```\n",
       "\n",
       "**Explanation Step by Step:**\n",
       "\n",
       "1. **`books`:** This is a variable assumed to be a list of dictionaries. Each dictionary in this list represents a book, and it’s expected to have a key called \"author\".\n",
       "\n",
       "2. **`book.get(\"author\")`:**\n",
       "   - This is a safe way to access the value associated with the \"author\" key within each `book` dictionary.  It returns `None` if the key doesn't exist –  this is important for avoiding `KeyError` exceptions.\n",
       "\n",
       "3. **`for book in books`:**\n",
       "   - This iterates through *each* dictionary in the `books` list.\n",
       "\n",
       "4. **`if book.get(\"author\")`:**\n",
       "   - This is a conditional statement.  It checks if the `author` key has a value.  If the `author` key *does* exist in the current `book` dictionary, the condition is true.\n",
       "\n",
       "5. **`yield from`:**\n",
       "   - This is the *key* to the magic!  The `yield from` keyword is crucial. It's a very elegant way to iterate over a sequence (like a list) and *yield* each element to the caller in each iteration.\n",
       "   -  It's equivalent to `for book in books: for author in book.get(\"author\"):` but much more compact.\n",
       "\n",
       "6.  **`{ ... }`:**  This is a dictionary comprehension. It's used to define a *new* dictionary.  In this case, it's creating a dictionary where each key is the author and the value is the result of the `yield from` expression (i.e., the author).\n",
       "\n",
       "**In essence:**\n",
       "\n",
       "The code silently iterates through a list of dictionaries. For each booking, it gets (safely) the author, and then, in a very compact and declarative way, it *yields* that author to the caller in each iteration of the `for` loop.  It's essentially creating a generator of author names.\n",
       "\n",
       "**Why it's considered good design (from a senior engineer's perspective):**\n",
       "\n",
       "* **Conciseness:** It's incredibly concise and readable, especially compared to a traditional `for` loop with explicit `for` loop iterations.\n",
       "* **Generator Functionality:**  The `yield` keyword is the heart of generator functions in Python.  It’s particularly useful when you don’t want to load an entire list into memory at once. The function produces the data as it's needed, only when it's requested.  This is a very efficient way to handle potentially large datasets.\n",
       "* **Readability:**  The `yield from` construct is often considered very readable and expressive, which improves maintainability. It communicates intent very clearly.\n",
       "\n",
       "**Potential Improvements/Things to consider (beyond this specific example):**\n",
       "\n",
       "* **Error Handling:**  If your `books` list might be empty, this code will raise a `TypeError` because `book.get(\"author\")` will raise `AttributeError` if the key doesn't exist.  You might want to add a check for an empty list to prevent this and gracefully handle it.  For example:\n",
       "\n",
       "  ```python\n",
       "  if not books:\n",
       "      print(\"No books found.\")  # Handle case where books list is empty\n",
       "  else:\n",
       "      yield from {book.get(\"author\") for book in books if book.get(\"author\")}\n",
       "  ```\n",
       "\n",
       "* **Type Checking:** If you want to be even more robust, you could add a check to ensure that the `book` dictionary actually has a 'author' key before attempting to access it.\n",
       "\n",
       "Let me know if you’d like me to elaborate on any specific aspect of this code or want to explore alternative ways to achieve the same goal.  Do you have a specific use case in mind where you'd want to use it, or perhaps a larger example you’d like me to help with?"
      ],
      "text/plain": [
       "<IPython.core.display.Markdown object>"
      ]
     },
     "metadata": {},
     "output_type": "display_data"
    }
   ],
   "source": [
    "prompt = \"\"\"Act as software enginieer senior.   Help the user to learn code .\n",
    "Fix the code with aproaching in  details!\n",
    "\"\"\"\n",
    "response = openai.chat.completions.create(\n",
    "        model=MODEL,\n",
    "        messages=[\n",
    "        {\"role\": \"system\", \"content\": prompt},\n",
    "        {\"role\": \"user\", \"content\": question}\n",
    "        ]\n",
    "    )\n",
    "result = response.choices[0].message.content\n",
    "display(Markdown(result))"
   ]
  },
  {
   "cell_type": "code",
   "execution_count": null,
   "id": "ca1c0228-c219-481f-afb2-8921038261eb",
   "metadata": {},
   "outputs": [],
   "source": []
  }
 ],
 "metadata": {
  "kernelspec": {
   "display_name": "Python (myenv)",
   "language": "python",
   "name": "myenv"
  },
  "language_info": {
   "codemirror_mode": {
    "name": "ipython",
    "version": 3
   },
   "file_extension": ".py",
   "mimetype": "text/x-python",
   "name": "python",
   "nbconvert_exporter": "python",
   "pygments_lexer": "ipython3",
   "version": "3.9.23"
  }
 },
 "nbformat": 4,
 "nbformat_minor": 5
}
